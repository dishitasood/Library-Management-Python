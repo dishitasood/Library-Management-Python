{
  "cells": [
    {
      "cell_type": "markdown",
      "metadata": {
        "id": "010fd941"
      },
      "source": [
        "<a target=\"_blank\" href=\"https://colab.research.google.com/github/lukebarousse/Python_Data_Analytics_Course/blob/main/1_Basics/18_Modules.ipynb\">\n",
        "  <img src=\"https://colab.research.google.com/assets/colab-badge.svg\" alt=\"Open In Colab\"/>\n",
        "</a>"
      ]
    },
    {
      "cell_type": "markdown",
      "metadata": {
        "id": "54vpIdtbxDAL"
      },
      "source": [
        "# Modules"
      ]
    },
    {
      "cell_type": "markdown",
      "metadata": {
        "id": "otPXk6HRFg-5"
      },
      "source": [
        "We'll be going over:\n",
        "- Create a module\n",
        "- Using modules"
      ]
    },
    {
      "cell_type": "markdown",
      "metadata": {
        "id": "a5cQsOwgHEjq"
      },
      "source": [
        "## What is a Module\n",
        "\n",
        "* Consider a module to be the same as a code library.\n",
        "* It's a file containing a set of functions you want to include.\n",
        "\n",
        "#### Importance\n",
        "\n",
        "Essential for accessing pandas and Matplotlib functionalities, allowing data analysis and visualization."
      ]
    },
    {
      "cell_type": "code",
      "execution_count": 1,
      "metadata": {
        "colab": {
          "base_uri": "https://localhost:8080/"
        },
        "id": "qWr9ukwYfIwS",
        "outputId": "df85b7a8-7be4-4f2c-f415-25edf5547f0f"
      },
      "outputs": [
        {
          "output_type": "stream",
          "name": "stdout",
          "text": [
            "Overwriting my_module.py\n"
          ]
        }
      ],
      "source": [
        "%%writefile my_module.py\n",
        "\n",
        "skill_list = ['Python', 'SQL', 'Excel']"
      ]
    },
    {
      "cell_type": "markdown",
      "metadata": {
        "id": "4SUD8JwvfIwT"
      },
      "source": [
        "We can import things like variables (although this is less common and more for demonstration)."
      ]
    },
    {
      "cell_type": "code",
      "execution_count": 2,
      "metadata": {
        "colab": {
          "base_uri": "https://localhost:8080/",
          "height": 211
        },
        "id": "dW63jQipfIwU",
        "outputId": "d3c308c8-a3d8-40fa-aaa0-c8d9390c97a9"
      },
      "outputs": [
        {
          "output_type": "error",
          "ename": "AttributeError",
          "evalue": "module 'my_module' has no attribute 'skill'",
          "traceback": [
            "\u001b[0;31m---------------------------------------------------------------------------\u001b[0m",
            "\u001b[0;31mAttributeError\u001b[0m                            Traceback (most recent call last)",
            "\u001b[0;32m<ipython-input-2-142be30a523f>\u001b[0m in \u001b[0;36m<cell line: 5>\u001b[0;34m()\u001b[0m\n\u001b[1;32m      3\u001b[0m \u001b[0mmy_module\u001b[0m\u001b[0;34m.\u001b[0m\u001b[0mskill_list\u001b[0m\u001b[0;34m\u001b[0m\u001b[0;34m\u001b[0m\u001b[0m\n\u001b[1;32m      4\u001b[0m \u001b[0;34m\u001b[0m\u001b[0m\n\u001b[0;32m----> 5\u001b[0;31m \u001b[0mmy_module\u001b[0m\u001b[0;34m.\u001b[0m\u001b[0mskill\u001b[0m\u001b[0;34m(\u001b[0m\u001b[0;34m\"Python\"\u001b[0m\u001b[0;34m)\u001b[0m\u001b[0;34m\u001b[0m\u001b[0;34m\u001b[0m\u001b[0m\n\u001b[0m",
            "\u001b[0;31mAttributeError\u001b[0m: module 'my_module' has no attribute 'skill'"
          ]
        }
      ],
      "source": [
        "import my_module\n",
        "\n",
        "my_module.skill_list\n",
        "\n",
        "my_module.skill(\"Python\")"
      ]
    },
    {
      "cell_type": "markdown",
      "metadata": {
        "id": "KPdSV4C3fIwU"
      },
      "source": [
        "More importantly we can import functions (and classes)."
      ]
    },
    {
      "cell_type": "code",
      "execution_count": null,
      "metadata": {
        "id": "qfdLoz6wfIwV"
      },
      "outputs": [],
      "source": [
        "%%writefile my_module2.py\n",
        "\n",
        "skill_list = ['Python', 'SQL', 'Excel']\n",
        "\n",
        "def skill(skill_name):\n",
        "    return f\"{skill_name} is my favorite skill!\""
      ]
    },
    {
      "cell_type": "code",
      "execution_count": null,
      "metadata": {
        "id": "Y42kCwPGfIwW"
      },
      "outputs": [],
      "source": [
        "import my_module2\n",
        "\n",
        "# Call the functions from the module\n",
        "print(my_module2.skill('Python'))"
      ]
    },
    {
      "cell_type": "markdown",
      "metadata": {
        "id": "TRfJ02wwLxnc"
      },
      "source": [
        "## Create a Module\n",
        "\n",
        "### Notes\n",
        "\n",
        "* Save the code you want in a file with the file extensions `.py`.\n",
        "* In Jupyter notebooks we are going to be doing something slightly different to save our module.\n",
        "  * This will let us save the contents of a cell as a Python script file with the `.py` extension.\n",
        "  * Why are we doing this? Because python scripts (.py files) are standalone false. But since we're using Jupyter notebooks which are organized into cells. We need to save it differently.\n",
        "  * Here's how: `%%writefile file_name.py`.\n",
        "\n",
        "### Example\n",
        "\n",
        "* We're going to save our function that weused previously. Save it as `my_module` using the following code:\n",
        "  * `%%writefile my_module.py`\n",
        "  * **Note**: Make sure this is the very first line in the Jupyter Notebook cell. You can't even have a comment or any whitespace above it.\n",
        "\n",
        "Let's use the function we created earlier that calculates total salary."
      ]
    },
    {
      "cell_type": "code",
      "execution_count": 4,
      "metadata": {
        "colab": {
          "base_uri": "https://localhost:8080/"
        },
        "id": "vrr89kPTLxIk",
        "outputId": "3dd30f0e-8fc2-4457-dd71-21d861d3156f"
      },
      "outputs": [
        {
          "output_type": "stream",
          "name": "stdout",
          "text": [
            "Help on module job_analyser:\n",
            "\n",
            "NAME\n",
            "    job_analyser\n",
            "\n",
            "FUNCTIONS\n",
            "    calculate_salary(base_salary, bonus_rate=0.1)\n",
            "\n",
            "FILE\n",
            "    /content/job_analyser.py\n",
            "\n",
            "\n"
          ]
        }
      ],
      "source": [
        "import job_analyser\n",
        "\n",
        "job_analyser.calculate_salary(10)\n",
        "\n",
        "help(job_analyser)"
      ]
    },
    {
      "cell_type": "markdown",
      "metadata": {
        "id": "Hp_H0rRDaeXg"
      },
      "source": [
        "If you look in the files you can see the module you just created."
      ]
    },
    {
      "cell_type": "markdown",
      "metadata": {
        "id": "zOHN9w-BMMuT"
      },
      "source": [
        "## Accessing a Module\n",
        "\n",
        "We're going to go over two major types\n",
        "\n",
        "1. User Defined\n",
        "2. Imported Modules"
      ]
    },
    {
      "cell_type": "markdown",
      "metadata": {
        "id": "Nitl7QacfIwX"
      },
      "source": [
        "### Use Your Created Module\n",
        "\n",
        "\n",
        "#### Notes\n",
        "\n",
        "* To use a function from a module, use the syntax: `module_name.function_name`\n",
        "\n",
        "#### Example"
      ]
    },
    {
      "cell_type": "code",
      "execution_count": null,
      "metadata": {
        "id": "Vdv2lEMWHHuL"
      },
      "outputs": [],
      "source": [
        "import job_analyzer\n",
        "\n",
        "job_analyzer.calculate_salary(100000)"
      ]
    },
    {
      "cell_type": "markdown",
      "metadata": {
        "id": "7IpE_04ZLnlx"
      },
      "source": [
        "Modules can contain variables of all types like arrays, dictionaries, etc."
      ]
    },
    {
      "cell_type": "markdown",
      "metadata": {
        "id": "iL3AVwDAfIwX"
      },
      "source": [
        "## Python Standard Library Modules\n",
        "\n",
        "#### Notes\n",
        "\n",
        "* Python has a variety of standard modules.\n",
        "* Here are some common modules:\n",
        "    * **os**: Provides functions for interacting with the operating system, like file operations\n",
        "    * **sys**: Offers access to some variables used or maintained by the Python interpreter and to functions that interact strongly with the interpreter\n",
        "    * **math**: Contains mathematical functions such as trigonometric functions, logarithms, etc.\n",
        "    * **random**: Allows generating random numbers\n",
        "    * **datetime**: Supplies classes for manipulating dates and times\n",
        "    * **json**: Provides functions for encoding and decoding JSON data\n",
        "    * **csv**: Implements classes to read and write tabular data in CSV format\n",
        "    * **re**: Supports regular expressions for pattern matching and manipulation\n",
        "* In this course we'll be going over: `random`, `datetime` and some 3rd party libraries.\n",
        "\n",
        "#### Source code for Libraries\n",
        "\n",
        "[Python Standard Library Source Code](https://github.com/python/cpython/tree/3.12/Lib).\n"
      ]
    },
    {
      "cell_type": "markdown",
      "metadata": {
        "id": "EeTPJ_BLfIwX"
      },
      "source": [
        "#### Libraries Available"
      ]
    },
    {
      "cell_type": "code",
      "execution_count": null,
      "metadata": {
        "id": "Xz-W6xWUfIwX"
      },
      "outputs": [],
      "source": [
        "# list the python standard libraries installed\n",
        "import sys\n",
        "print(sys.builtin_module_names)"
      ]
    },
    {
      "cell_type": "markdown",
      "metadata": {
        "id": "GwBY6DeHfIwX"
      },
      "source": [
        "#### Example - Statistics Library\n",
        "\n",
        "We'll import the `statistics` module and use it to take the square root of 16.\n",
        "\n",
        "[Here is the source code to see the module](https://github.com/python/cpython/blob/23ba96e2433d17e86f4770a64b94aaf9ad22a25b/Lib/statistics.py#L468) (Link directs to line 468 of `mean()` function)."
      ]
    },
    {
      "cell_type": "code",
      "execution_count": null,
      "metadata": {
        "id": "zNLvR-mnfIwX"
      },
      "outputs": [],
      "source": [
        "# Importing statistics module\n",
        "import statistics\n",
        "\n",
        "salary_list = [98000, 101000, 102000, 99000, 97000]\n",
        "\n",
        "# Calculate the mean, median, and mode\n",
        "mean = statistics.mean(salary_list)\n",
        "median = statistics.median(salary_list)\n",
        "mode = statistics.mode(salary_list)\n",
        "\n",
        "# Print the mean, median, and mode\n",
        "print(f'Mean: {mean}')\n",
        "print(f'Median: {median}')\n",
        "print(f'Mode: {mode}')"
      ]
    },
    {
      "cell_type": "markdown",
      "metadata": {
        "id": "my_OIaUkfIwY"
      },
      "source": [
        "## How to Import"
      ]
    },
    {
      "cell_type": "markdown",
      "metadata": {
        "id": "oJ4GSmSPfIwY"
      },
      "source": [
        "### `import` statement"
      ]
    },
    {
      "cell_type": "code",
      "execution_count": null,
      "metadata": {
        "id": "T4xk2b1nfIwY"
      },
      "outputs": [],
      "source": [
        "import pandas"
      ]
    },
    {
      "cell_type": "markdown",
      "metadata": {
        "id": "x3wkePswfIwY"
      },
      "source": [
        "### `import` with Alias\n",
        "\n",
        "We are importing a Python library called pandas and assigning it to the alias of `pd`. For libraries we assign an alias to make it quicker to type out the code. It's also standard to assign an alias."
      ]
    },
    {
      "cell_type": "code",
      "execution_count": null,
      "metadata": {
        "id": "a1r_E5DPfIwY"
      },
      "outputs": [],
      "source": [
        "import pandas as pd"
      ]
    },
    {
      "cell_type": "markdown",
      "metadata": {
        "id": "2d1IeAtHfIwY"
      },
      "source": [
        "### `from` and `import` statements\n",
        "\n",
        "`from` Statement:\n",
        "- Typically used to specify the module or library from which you want to import specific functions, classes, or even other modules.\n",
        "- You can also use it to import specific attributes or objects from within a module `import Statement`.\n",
        "- Used to import functions, classes, variables, or entire modules directly into your namespace.\n",
        "- It can be used alone (e.g., import numpy) or in combination with from to pinpoint specific elements (e.g., from numpy import array).\n",
        "\n",
        "#### Examples\n",
        "We are importing the plot function directly from the `pyplot` module, which is part of the `matplotlib` library. The `.notation` means: `matplotlib` is the package, `pyplot` is a module, and `plot` is a function in this module."
      ]
    },
    {
      "cell_type": "code",
      "execution_count": null,
      "metadata": {
        "id": "cnZdQSAJfIwY"
      },
      "outputs": [],
      "source": [
        "# importing from pyplot module the plot function\n",
        "from matplotlib.pyplot import plot"
      ]
    },
    {
      "cell_type": "markdown",
      "metadata": {
        "id": "-vJoIX2MfIwY"
      },
      "source": [
        "We are importing multiple items (functions in this case). We're importing the functions `mean_squared_error` and `r2_score` from the `metrics` module within the `sklearn` (Scikit-learn) package. Scikit-learn is a library for machine learning."
      ]
    },
    {
      "cell_type": "code",
      "execution_count": null,
      "metadata": {
        "id": "w8KnLd1FfIwY"
      },
      "outputs": [],
      "source": [
        "from sklearn.metrics import mean_squared_error, r2_score"
      ]
    }
  ],
  "metadata": {
    "colab": {
      "provenance": []
    },
    "kernelspec": {
      "display_name": "Python 3",
      "name": "python3"
    },
    "language_info": {
      "codemirror_mode": {
        "name": "ipython",
        "version": 3
      },
      "file_extension": ".py",
      "mimetype": "text/x-python",
      "name": "python",
      "nbconvert_exporter": "python",
      "pygments_lexer": "ipython3",
      "version": "3.9.19"
    }
  },
  "nbformat": 4,
  "nbformat_minor": 0
}